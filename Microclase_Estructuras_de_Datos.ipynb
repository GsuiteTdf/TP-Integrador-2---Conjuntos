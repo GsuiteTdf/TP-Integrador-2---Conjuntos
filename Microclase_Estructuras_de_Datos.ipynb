{
  "nbformat": 4,
  "nbformat_minor": 0,
  "metadata": {
    "colab": {
      "provenance": [],
      "include_colab_link": true
    },
    "kernelspec": {
      "name": "python3",
      "display_name": "Python 3"
    },
    "language_info": {
      "name": "python"
    }
  },
  "cells": [
    {
      "cell_type": "markdown",
      "metadata": {
        "id": "view-in-github",
        "colab_type": "text"
      },
      "source": [
        "<a href=\"https://colab.research.google.com/github/GsuiteTdf/TP-Integrador-2---Conjuntos/blob/main/Microclase_Estructuras_de_Datos.ipynb\" target=\"_parent\"><img src=\"https://colab.research.google.com/assets/colab-badge.svg\" alt=\"Open In Colab\"/></a>"
      ]
    },
    {
      "cell_type": "markdown",
      "source": [
        "# **Ejercicios - Estructuras de Datos**"
      ],
      "metadata": {
        "id": "8KbPw7E1xaAe"
      }
    },
    {
      "cell_type": "markdown",
      "source": [
        "# ✅ Ejercicio 1: Listas\n",
        "Crear una lista con los nombres de 5 estudiantes. Luego:\n",
        "\n",
        "* Agregar un nuevo nombre al final.\n",
        "* Eliminar el segundo nombre.\n",
        "* Ordenar la lista alfabéticamente.\n",
        "* Imprimir la lista final."
      ],
      "metadata": {
        "id": "7H-xwWi_v5nY"
      }
    },
    {
      "cell_type": "code",
      "source": [
        "estudiantes = [\"Ana\", \"Luis\", \"María\", \"Pedro\", \"Sofía\"]\n",
        "print(\"Lista original de estudiantes:\", estudiantes)\n",
        "estudiantes.append(\"Carlos\")\n",
        "print(\"Lista actualizada de estudiantes:\", estudiantes)\n",
        "estudiantes.pop(1)\n",
        "print(\"Lista actualizada de estudiantes:\", estudiantes)\n",
        "estudiantes.sort()\n",
        "print(\"Lista final de estudiantes:\", estudiantes)"
      ],
      "metadata": {
        "id": "OBCKIXW8wIZl",
        "colab": {
          "base_uri": "https://localhost:8080/"
        },
        "outputId": "221bd211-9edd-4875-f73d-d383e8660e05"
      },
      "execution_count": null,
      "outputs": [
        {
          "output_type": "stream",
          "name": "stdout",
          "text": [
            "Lista original de estudiantes: ['Ana', 'Luis', 'María', 'Pedro', 'Sofía']\n",
            "Lista actualizada de estudiantes: ['Ana', 'Luis', 'María', 'Pedro', 'Sofía', 'Carlos']\n",
            "Lista actualizada de estudiantes: ['Ana', 'María', 'Pedro', 'Sofía', 'Carlos']\n",
            "Lista final de estudiantes: ['Ana', 'Carlos', 'María', 'Pedro', 'Sofía']\n"
          ]
        }
      ]
    },
    {
      "cell_type": "markdown",
      "source": [
        "# ✅ Ejercicio 2: Tuplas\n",
        "Dado el siguiente catálogo de productos representado como una tupla de tuplas, donde cada producto contiene: (nombre, categoría, precio):\n",
        "\n",
        "```productos = (```\n",
        "\n",
        "   ``` (\"Notebook\", \"Electrónica\", 1200),```\n",
        "\n",
        "   ``` (\"Auriculares\", \"Electrónica\", 100),```\n",
        "\n",
        "   ``` (\"Silla\", \"Muebles\", 300),```\n",
        "\n",
        "   ``` (\"Mesa\", \"Muebles\", 450),```\n",
        "\n",
        "   ``` (\"Celular\", \"Electrónica\", 800),```\n",
        "   \n",
        "```)```\n",
        "\n",
        "* Mostrá todos los productos de la categoría \"Electrónica\".\n",
        "* Calculá el precio promedio de todos los productos.\n",
        "* Mostrá el nombre del producto más caro.\n",
        "* Mostrá el índice en la tupla donde se encuentra el producto \"Mesa\"."
      ],
      "metadata": {
        "id": "wt18iwJ4wLQM"
      }
    },
    {
      "cell_type": "code",
      "source": [
        "productos = (\n",
        "    (\"Notebook\", \"Electrónica\", 1200),\n",
        "    (\"Auriculares\", \"Electrónica\", 100),\n",
        "    (\"Silla\", \"Muebles\", 300),\n",
        "    (\"Mesa\", \"Muebles\", 450),\n",
        "    (\"Celular\", \"Electrónica\", 800),\n",
        ")\n",
        "\n",
        "# 1. Mostrar productos de Electrónica\n",
        "print(\"Productos de Electrónica:\")\n",
        "for producto in productos:\n",
        "    categoria = producto[1]\n",
        "    if categoria == \"Electrónica\":\n",
        "        print(producto)\n",
        "\n",
        "# 2. Calcular precio promedio\n",
        "suma = 0\n",
        "cantidad = 0\n",
        "for producto in productos:\n",
        "    precio = producto[2]\n",
        "    suma += precio\n",
        "    cantidad += 1\n",
        "\n",
        "promedio = suma / cantidad\n",
        "print(\"\\nPrecio promedio: $\", round(promedio, 2))\n",
        "\n",
        "# 3. Producto más caro\n",
        "producto_mas_caro = productos[0]\n",
        "for producto in productos:\n",
        "    if producto[2] > producto_mas_caro[2]:\n",
        "        producto_mas_caro = producto\n",
        "\n",
        "print(\"\\nProducto más caro:\", producto_mas_caro[0], \"-\", \"$\" + str(producto_mas_caro[2]))\n",
        "\n",
        "# 4. Índice del producto \"Mesa\"\n",
        "for i in range(len(productos)):\n",
        "    if productos[i][0] == \"Mesa\":\n",
        "        print(\"\\n'Mesa' está en el índice:\", i)\n",
        "        break\n"
      ],
      "metadata": {
        "id": "w-AlWSNBwTik",
        "colab": {
          "base_uri": "https://localhost:8080/"
        },
        "outputId": "e62505d7-f94b-4f7f-f343-22b578c421e2"
      },
      "execution_count": null,
      "outputs": [
        {
          "output_type": "stream",
          "name": "stdout",
          "text": [
            "Productos de Electrónica:\n",
            "('Notebook', 'Electrónica', 1200)\n",
            "('Auriculares', 'Electrónica', 100)\n",
            "('Celular', 'Electrónica', 800)\n",
            "\n",
            "Precio promedio: $ 570.0\n",
            "\n",
            "Producto más caro: Notebook - $1200\n",
            "\n",
            "'Mesa' está en el índice: 3\n"
          ]
        }
      ]
    },
    {
      "cell_type": "markdown",
      "source": [
        "# ✅ Ejercicio 3: Sets (Conjuntos)\n",
        "Crear dos conjuntos con los nombres de lenguajes de programación que conoce un estudiante A y otro B.\n",
        "\n",
        "* Mostrar los lenguajes que ambos conocen.\n",
        "* Mostrar los lenguajes que conoce solo el estudiante A.\n",
        "* Agregar un nuevo lenguaje al conjunto del estudiante B.\n",
        "\n"
      ],
      "metadata": {
        "id": "5ksw9E7awh5U"
      }
    },
    {
      "cell_type": "code",
      "source": [
        "a = {\"Python\", \"Java\", \"C++\"}\n",
        "b = {\"Python\", \"JavaScript\", \"C#\"}\n",
        "\n",
        "print(\"Lenguajes en común:\", a & b)\n",
        "print(\"Lenguajes solo de A:\", a - b)\n",
        "#a|b\n",
        "\n",
        "b.add(\"Go\")\n",
        "print(\"Lenguajes del estudiante B actualizados:\", b)\n"
      ],
      "metadata": {
        "id": "JT49LgdawqAE",
        "colab": {
          "base_uri": "https://localhost:8080/"
        },
        "outputId": "64e45868-177d-4fc4-8ffe-bc4197d09214"
      },
      "execution_count": null,
      "outputs": [
        {
          "output_type": "stream",
          "name": "stdout",
          "text": [
            "Lenguajes en común: {'Python'}\n",
            "Lenguajes solo de A: {'Java', 'C++'}\n",
            "Lenguajes del estudiante B actualizados: {'JavaScript', 'Go', 'Python', 'C#'}\n"
          ]
        }
      ]
    },
    {
      "cell_type": "markdown",
      "source": [
        "# ✅ Ejercicio 4: Diccionarios\n",
        "Crear un diccionario que represente un libro con las claves: \"titulo\", \"autor\", \"año\", \"género\".\n",
        "\n",
        "* Mostrar todos los datos del libro con un bucle.\n",
        "* Agregar una nueva clave \"disponible\" con valor True.\n",
        "* Cambiar el valor del año."
      ],
      "metadata": {
        "id": "lk2vFVxgwua8"
      }
    },
    {
      "cell_type": "code",
      "source": [
        "libro = {\n",
        "    \"titulo\": \"1984\",\n",
        "    \"autor\": \"George Orwell\",\n",
        "    \"año\": 1949,\n",
        "    \"género\": \"Distopía\"\n",
        "}\n",
        "#.keys()\n",
        "for clave in libro.keys():\n",
        "    print(f\"{clave}: {libro[clave]}\")\n",
        "#.values()\n",
        "for clave, valor in libro.items():\n",
        "    print(f\"{clave}: {valor}\")\n",
        "\n",
        "libro[\"disponible\"] = True\n",
        "libro[\"año\"] = 1950\n",
        "print(\"Libro actualizado:\", libro)"
      ],
      "metadata": {
        "id": "-PwItL3rw0R0",
        "colab": {
          "base_uri": "https://localhost:8080/"
        },
        "outputId": "4839cd56-af2f-4676-a2cf-550f0f198ffc"
      },
      "execution_count": null,
      "outputs": [
        {
          "output_type": "stream",
          "name": "stdout",
          "text": [
            "titulo: 1984\n",
            "autor: George Orwell\n",
            "año: 1949\n",
            "género: Distopía\n",
            "titulo: 1984\n",
            "autor: George Orwell\n",
            "año: 1949\n",
            "género: Distopía\n",
            "Libro actualizado: {'titulo': '1984', 'autor': 'George Orwell', 'año': 1950, 'género': 'Distopía', 'disponible': True}\n"
          ]
        }
      ]
    },
    {
      "cell_type": "markdown",
      "source": [
        "# 🧠 Ejercicio Integrador\n",
        "📝 Una escuela quiere procesar la información de los estudiantes y las materias que cursan.\n",
        "\n",
        "Tenés una lista de tuplas, donde cada tupla representa un estudiante con su nombre y la materia que cursa.\n",
        "\n",
        "Realizá las siguientes tareas:\n",
        "\n",
        "\n",
        "```\n",
        "# Datos de entrada\n",
        "inscripciones = [\n",
        "    (\"Ana\", \"Matemática\"),\n",
        "    (\"Luis\", \"Historia\"),\n",
        "    (\"Ana\", \"Literatura\"),\n",
        "    (\"Carlos\", \"Matemática\"),\n",
        "    (\"Luis\", \"Matemática\"),\n",
        "    (\"Sofía\", \"Física\"),\n",
        "    (\"Carlos\", \"Historia\"),\n",
        "    (\"Sofía\", \"Matemática\"),\n",
        "    (\"Ana\", \"Historia\")\n",
        "]\n",
        "```\n",
        "**Requerimientos:**\n",
        "* Mostrar todos los estudiantes sin repetir (usar set).\n",
        "* Contar cuántas materias cursa cada estudiante (usar dict).\n",
        "* Mostrar las materias que cursan los estudiantes en común.\n",
        "* Mostrar las materias únicas que cursa cada estudiante (es decir, materias que solo cursa ese estudiante)."
      ],
      "metadata": {
        "id": "rgrYAZPyw2dk"
      }
    },
    {
      "cell_type": "code",
      "source": [
        "inscripciones = [\n",
        "    (\"Ana\", \"Matemática\"),\n",
        "    (\"Luis\", \"Historia\"),\n",
        "    (\"Ana\", \"Literatura\"),\n",
        "    (\"Carlos\", \"Matemática\"),\n",
        "    (\"Luis\", \"Matemática\"),\n",
        "    (\"Sofía\", \"Física\"),\n",
        "    (\"Carlos\", \"Historia\"),\n",
        "    (\"Sofía\", \"Matemática\"),\n",
        "    (\"Ana\", \"Historia\")\n",
        "]\n",
        "\n",
        "# 1. Estudiantes sin repetir (usando set)\n",
        "estudiantes = set()\n",
        "for inscripcion in inscripciones:\n",
        "    nombre = inscripcion[0]\n",
        "    estudiantes.add(nombre)\n",
        "\n",
        "print(\"Estudiantes:\")\n",
        "for estudiante in estudiantes:\n",
        "    print(estudiante)\n"
      ],
      "metadata": {
        "id": "Lun-6xwIxTxd",
        "colab": {
          "base_uri": "https://localhost:8080/"
        },
        "outputId": "dccbdd41-5ffe-40cd-9709-9341576677cd"
      },
      "execution_count": null,
      "outputs": [
        {
          "output_type": "stream",
          "name": "stdout",
          "text": [
            "Estudiantes:\n",
            "Sofía\n",
            "Carlos\n",
            "Ana\n",
            "Luis\n"
          ]
        }
      ]
    },
    {
      "cell_type": "code",
      "source": [
        "# 2. Contar materias por estudiante (usando dict con sets)\n",
        "materias_por_estudiante = {}\n",
        "\n",
        "for inscripcion in inscripciones:\n",
        "    nombre = inscripcion[0]\n",
        "    materia = inscripcion[1]\n",
        "\n",
        "    if nombre not in materias_por_estudiante:\n",
        "        materias_por_estudiante[nombre] = set()\n",
        "\n",
        "    materias_por_estudiante[nombre].add(materia)\n",
        "\n",
        "print(\"\\nCantidad de materias por estudiante:\")\n",
        "for estudiante in materias_por_estudiante:\n",
        "    materias = materias_por_estudiante[estudiante]\n",
        "    print(estudiante + \":\", len(materias), \"materias:\", materias)"
      ],
      "metadata": {
        "colab": {
          "base_uri": "https://localhost:8080/"
        },
        "id": "Kx6pTvip0O8P",
        "outputId": "df9718f7-8332-46be-f377-31070817307c"
      },
      "execution_count": null,
      "outputs": [
        {
          "output_type": "stream",
          "name": "stdout",
          "text": [
            "\n",
            "Cantidad de materias por estudiante:\n",
            "Ana: 3 materias: {'Matemática', 'Literatura', 'Historia'}\n",
            "Luis: 2 materias: {'Matemática', 'Historia'}\n",
            "Carlos: 2 materias: {'Matemática', 'Historia'}\n",
            "Sofía: 2 materias: {'Matemática', 'Física'}\n"
          ]
        }
      ]
    },
    {
      "cell_type": "code",
      "source": [
        "# 3. Materias cursadas por todos (intersección de sets)\n",
        "materias_comunes = None\n",
        "for materias in materias_por_estudiante.values():\n",
        "    if materias_comunes is None:\n",
        "        materias_comunes = materias.copy()\n",
        "    else:\n",
        "        materias_comunes = materias_comunes.intersection(materias)\n",
        "\n",
        "print(\"\\nMaterias cursadas por todos:\")\n",
        "if materias_comunes:\n",
        "    for materia in materias_comunes:\n",
        "        print(materia)\n",
        "else:\n",
        "    print(\"No hay materias en común.\")\n"
      ],
      "metadata": {
        "id": "JHb7EEZM0Rr3",
        "outputId": "582499f6-5e24-4399-eee9-5eed744025d0",
        "colab": {
          "base_uri": "https://localhost:8080/"
        }
      },
      "execution_count": null,
      "outputs": [
        {
          "output_type": "stream",
          "name": "stdout",
          "text": [
            "\n",
            "Materias cursadas por todos:\n",
            "Matemática\n"
          ]
        }
      ]
    },
    {
      "cell_type": "code",
      "source": [
        "# 4. Materias únicas por estudiante\n",
        "# Primero juntamos todas las materias en una lista\n",
        "todas_materias = []\n",
        "for materias in materias_por_estudiante.values():\n",
        "    for materia in materias:\n",
        "        todas_materias.append(materia)\n",
        "\n",
        "# Luego verificamos cuáles aparecen solo una vez\n",
        "print(\"\\nMaterias únicas por estudiante:\")\n",
        "for estudiante in materias_por_estudiante:\n",
        "    materias = materias_por_estudiante[estudiante]\n",
        "    unicas = set()\n",
        "    for materia in materias:\n",
        "        contador = 0\n",
        "        for m in todas_materias:\n",
        "            if m == materia:\n",
        "                contador += 1\n",
        "        if contador == 1:\n",
        "            unicas.add(materia)\n",
        "    print(estudiante + \":\", unicas)\n"
      ],
      "metadata": {
        "id": "Rgk8YzdS0Uey",
        "outputId": "a7f89653-e1d7-4ba0-f158-62133a18607a",
        "colab": {
          "base_uri": "https://localhost:8080/"
        }
      },
      "execution_count": null,
      "outputs": [
        {
          "output_type": "stream",
          "name": "stdout",
          "text": [
            "\n",
            "Materias únicas por estudiante:\n",
            "Ana: {'Literatura'}\n",
            "Luis: set()\n",
            "Carlos: set()\n",
            "Sofía: {'Física'}\n"
          ]
        }
      ]
    }
  ]
}